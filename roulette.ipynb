{
 "cells": [
  {
   "cell_type": "markdown",
   "metadata": {},
   "source": [
    "# Gain ( somme à addition en plus de la mise de départ si victoire ): \n",
    "\n",
    "    - Rouge, Noir, Pair, Impair, 1 à 18, 19 à 36 : mise * 1\n",
    "    - à cheval sur 2 colonnes ( moitié des nombres ), douze nombres à cheval ( 1/3 des nombres, 24 ) : mise * 0.5\n",
    "    - colonne, douzaine : mise * 2\n",
    "    - sixain ( six nombres ) : mise * 5\n",
    "    - à cheval sur deux cases : mise * 17\n",
    "    - un seul nombre : mise * 35\n",
    "    - 1/3 : mise * 3 ( pas à additionner à la mise de départ )"
   ]
  },
  {
   "cell_type": "code",
   "execution_count": 1,
   "metadata": {},
   "outputs": [
    {
     "name": "stdout",
     "output_type": "stream",
     "text": [
      "[(11, 22, 937), (13, 31, 941), (13, 24, 944), (15, 28, 933), (7, 26, 947), (4, 27, 947), (19, 24, 928), (18, 18, 933), (7, 20, 949), (13, 22, 945), (19, 21, 940), (18, 27, 943), (16, 16, 947), (9, 28, 938), (14, 21, 935), (18, 27, 937), (13, 29, 942), (12, 30, 929), (8, 20, 957), (10, 21, 956)]\n",
      "moyenne séances gagnée ( stop à 14€ ) : 0.1285\n",
      "moyenne séances perdue ( stop à 14€ ) : 0.24100000000000002\n",
      "moyenne séances finies à + de 0 mais moins de 14 ( stop à 14€ ) : 9.414\n"
     ]
    }
   ],
   "source": [
    "import numpy as np\n",
    "import numpy.random as rd\n",
    "\n",
    "\n",
    "def tirage_num(n):\n",
    "    return rd.randint(0, 36, n)\n",
    "\n",
    "def rouge_noir(nb):\n",
    "    rouge = [1, 3, 5, 7, 9, 12, 14, 16, 18, 19, 21, 23, 25, 27, 30, 32, 34, 36]\n",
    "    noir = [2, 4, 6, 8, 10, 11, 13, 15, 17, 20, 22, 24, 26, 28, 29, 31, 33, 35]\n",
    "    if nb in rouge:\n",
    "        return 1\n",
    "    elif nb in noir:\n",
    "        return 2\n",
    "    else:\n",
    "        return 0\n",
    "\n",
    "def tiers(nb):\n",
    "    tiers_1 = [3,6,9,12,15,18,21,24,27,30,33,36]\n",
    "    tiers_2 = [2,5,8,11,14,17,20,23,26,29,32,35]\n",
    "    tiers_3 = [1,4,7,10,13,16,19,22,25,28,31,34]\n",
    "    if nb in tiers_1:\n",
    "        return 1\n",
    "    elif nb in tiers_2:\n",
    "        return 2\n",
    "    elif nb in tiers_3:\n",
    "        return 3\n",
    "    else:\n",
    "        return 0\n",
    "\n",
    "def pair_impair(nb):\n",
    "    if nb % 2 == 0:\n",
    "        return 0\n",
    "    else:\n",
    "        return 1\n",
    "    \n",
    "def victoire_pair_rouge(nb, argent): # on considère que l'on joue à chaque partie 1€ sur rouge et 1€ sur pair\n",
    "    argent -= 2\n",
    "    if(rouge_noir(nb) == 1 and pair_impair(nb) == 0):\n",
    "        argent += 4\n",
    "    elif(rouge_noir(nb) == 1):\n",
    "        argent += 2\n",
    "    elif(pair_impair(nb) == 0):\n",
    "        argent += 2\n",
    "    if(pair_impair(nb) == 1 and rouge_noir(nb) == 2 ):\n",
    "        argent += 0\n",
    "        \n",
    "    return argent\n",
    "\n",
    "def victoire_tiers(nb, argent): # on considère que l'on joue à chaque partie 1€ sur le tiers 1 et 1€ sur le tiers 2\n",
    "    argent -= 2\n",
    "    if(tiers(nb) == 1 or tiers(nb) == 2):\n",
    "        argent += 3\n",
    "        \n",
    "    return argent\n",
    "\n",
    "\n",
    "def partie(cashin,tirage): # cashin = prix auquel on veut stopper la partie, tirage = nombre de tirage par partie\n",
    "    argent_base = 10\n",
    "    max = argent_base\n",
    "    for i in tirage_num(tirage):\n",
    "        if(argent_base > 0 and argent_base < cashin):\n",
    "            argent_base = victoire_tiers(i, argent_base)\n",
    "            if(argent_base > max):\n",
    "                max = argent_base\n",
    "        else:\n",
    "            break\n",
    "    return argent_base\n",
    "\n",
    "def npartie_return_argent(n,cashin, tirage): # comme au dessus mais le boucle n fois\n",
    "    list = [] \n",
    "    for i in range(n):\n",
    "        argent_base = 10\n",
    "        for i in tirage_num(tirage):\n",
    "            if(argent_base > 0 and argent_base < cashin):\n",
    "                argent_base = victoire_tiers(i, argent_base)\n",
    "            else:\n",
    "                break\n",
    "        list.append(argent_base)\n",
    "    return list\n",
    "    \n",
    "def npartie(n,cashin,tirage): # n = nombre de partie que l'on veut faire, cashin = prix auquel on veut stopper la partie, tirage = nombre de tirage par partie\n",
    "    nb = 0\n",
    "    gagnée = 0\n",
    "    perdue = 0\n",
    "    autre = 0\n",
    "    for i in range(n):\n",
    "        nb = partie(cashin,tirage)\n",
    "        if(nb == cashin):\n",
    "            gagnée += 1\n",
    "        elif(nb > 0 and nb < cashin):\n",
    "            autre += 1\n",
    "        elif(nb == 0):\n",
    "            perdue += 1\n",
    "    return gagnée, perdue, autre\n",
    "        \n",
    "list = []\n",
    "count = 20\n",
    "for i in range(count):\n",
    "    list.append(npartie(1000,20,10))\n",
    "\n",
    "print(list)\n",
    "\n",
    "gagnee_moy = 0\n",
    "perdue_moy = 0\n",
    "autre_moy = 0\n",
    "\n",
    "for i in list:\n",
    "    gagnee_moy += i[0]\n",
    "    perdue_moy += i[1]\n",
    "    autre_moy += i[2]\n",
    "\n",
    "\n",
    "print(\"moyenne séances gagnée ( stop à 14€ ) :\", (gagnee_moy/count)/100)\n",
    "print(\"moyenne séances perdue ( stop à 14€ ) :\", (perdue_moy/count)/100)\n",
    "print(\"moyenne séances finies à + de 0 mais moins de 14 ( stop à 14€ ) :\", (autre_moy/count)/100)\n"
   ]
  },
  {
   "cell_type": "code",
   "execution_count": 2,
   "metadata": {},
   "outputs": [
    {
     "name": "stdout",
     "output_type": "stream",
     "text": [
      "(array([-1,  0,  2,  5,  8, 11, 14, 17, 20]), array([ 12,  30,  60, 164, 252, 244, 172,  50,  16], dtype=int64))\n"
     ]
    },
    {
     "data": {
      "image/png": "[encoded data removed]",
      "text/plain": [
       "<Figure size 432x288 with 1 Axes>"
      ]
     },
     "metadata": {
      "needs_background": "light"
     },
     "output_type": "display_data"
    },
    {
     "data": {
      "image/png": "[encoded data removed]",
      "text/plain": [
       "<Figure size 432x288 with 1 Axes>"
      ]
     },
     "metadata": {},
     "output_type": "display_data"
    }
   ],
   "source": [
    "import numpy as np\n",
    "import matplotlib.pyplot as plt\n",
    "\n",
    "Tab = []\n",
    "Tab.append(npartie_return_argent(1000,20,10))\n",
    "res = np.unique(Tab, return_counts = True)\n",
    "print(res)\n",
    "\n",
    "plt.bar(res[0], res[1])\n",
    "plt.ylabel('Nb de séances de 10 tours de roulette')\n",
    "plt.xlabel('Argent à la fin des 10 tours (ou après avoir tout perdu / cashout ) ')\n",
    "plt.title('Histogramme des séances de 10 tours de roulette avec stop à 20€ et argent initial de 10€')\n",
    "\n",
    "fig1, ax1 = plt.subplots()\n",
    "ax1.pie(res[1], labels=res[0], autopct='%1.1f%%', startangle=90, pctdistance=0.8)\n",
    "ax1.axis('equal') \n",
    "\n",
    "plt.show()\n"
   ]
  }
 ],
 "metadata": {
  "interpreter": {
   "hash": "eb33fcf88a50c80f630477f0a4bcd2b0c7dbd10b6c8bd5cc26f5d1fa87076e37"
  },
  "kernelspec": {
   "display_name": "Python 3.10.4 64-bit",
   "language": "python",
   "name": "python3"
  },
  "language_info": {
   "codemirror_mode": {
    "name": "ipython",
    "version": 3
   },
   "file_extension": ".py",
   "mimetype": "text/x-python",
   "name": "python",
   "nbconvert_exporter": "python",
   "pygments_lexer": "ipython3",
   "version": "3.10.4"
  },
  "orig_nbformat": 4
 },
 "nbformat": 4,
 "nbformat_minor": 2
}
