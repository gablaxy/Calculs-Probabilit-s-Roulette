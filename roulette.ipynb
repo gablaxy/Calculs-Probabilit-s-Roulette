{
 "cells": [
  {
   "cell_type": "markdown",
   "metadata": {},
   "source": [
    "# Gain ( somme à addition en plus de la mise de départ si victoire ): \n",
    "\n",
    "    - Rouge, Noir, Pair, Impair, 1 à 18, 19 à 36 : mise * 1\n",
    "    - à cheval sur 2 colonnes ( moitié des nombres ), douze nombres à cheval ( 1/3 des nombres, 24 ) : mise * 0.5\n",
    "    - colonne, douzaine : mise * 2\n",
    "    - sixain ( six nombres ) : mise * 5\n",
    "    - à cheval sur deux cases : mise * 17\n",
    "    - un seul nombre : mise * 35"
   ]
  },
  {
   "cell_type": "code",
   "execution_count": 313,
   "metadata": {},
   "outputs": [
    {
     "name": "stdout",
     "output_type": "stream",
     "text": [
      "[(2892, 208, 6900), (2913, 218, 6869), (2921, 215, 6864), (2923, 224, 6853), (2980, 199, 6821), (2879, 206, 6915), (2896, 210, 6894), (2917, 217, 6866), (2961, 215, 6824), (2968, 209, 6823), (2938, 246, 6816), (2899, 223, 6878), (3037, 190, 6773), (2967, 225, 6808), (3060, 220, 6720), (2873, 218, 6909), (2927, 248, 6825), (2958, 210, 6832), (3044, 211, 6745), (2931, 200, 6869)]\n",
      "moyenne séances gagnée ( stop à 14€ ) : 29.441999999999997\n",
      "moyenne séances perdue ( stop à 14€ ) : 2.156\n",
      "moyenne séances finies à + de 0 mais moins de 14 ( stop à 14€ ) : 68.402\n"
     ]
    }
   ],
   "source": [
    "import numpy as np\n",
    "import numpy.random as rd\n",
    "\n",
    "\n",
    "def tirage_num(n):\n",
    "    return rd.randint(0, 36, n)\n",
    "\n",
    "def rouge_noir(nb):\n",
    "    rouge = [1, 3, 5, 7, 9, 12, 14, 16, 18, 19, 21, 23, 25, 27, 30, 32, 34, 36]\n",
    "    noir = [2, 4, 6, 8, 10, 11, 13, 15, 17, 20, 22, 24, 26, 28, 29, 31, 33, 35]\n",
    "    if nb in rouge:\n",
    "        return 1\n",
    "    elif nb in noir:\n",
    "        return 2\n",
    "    else:\n",
    "        return 0\n",
    "\n",
    "def pair_impair(nb):\n",
    "    if nb % 2 == 0:\n",
    "        return 0\n",
    "    else:\n",
    "        return 1\n",
    "    \n",
    "def victoire(nb, argent): # on considère que l'on joue à chaque partie 1€ sur rouge et 1€ sur pair\n",
    "    argent -= 2\n",
    "    if(rouge_noir(nb) == 1 and pair_impair(nb) == 0):\n",
    "        argent += 4\n",
    "    elif(rouge_noir(nb) == 1):\n",
    "        argent += 2\n",
    "    elif(pair_impair(nb) == 0):\n",
    "        argent += 2\n",
    "    if(pair_impair(nb) == 1 and rouge_noir(nb) == 2 ):\n",
    "        argent += 0\n",
    "        \n",
    "    return argent\n",
    "\n",
    "def partie(cashin,tirage): # cashin = prix auquel on veut stopper la partie, tirage = nombre de tirage par partie\n",
    "    argent_base = 10\n",
    "    max = argent_base\n",
    "    for i in tirage_num(tirage):\n",
    "        if(argent_base > 0 and argent_base < cashin):\n",
    "            argent_base = victoire(i, argent_base)\n",
    "            if(argent_base > max):\n",
    "                max = argent_base\n",
    "        else:\n",
    "            break\n",
    "    return argent_base\n",
    "\n",
    "def npartie_return_argent(n,cashin, tirage): # comme au dessus mais le boucle n fois\n",
    "    list = [] \n",
    "    for i in range(n):\n",
    "        argent_base = 10\n",
    "        for i in tirage_num(tirage):\n",
    "            if(argent_base > 0 and argent_base < cashin):\n",
    "                argent_base = victoire(i, argent_base)\n",
    "            else:\n",
    "                break\n",
    "        list.append(argent_base)\n",
    "    return list\n",
    "    \n",
    "def npartie(n,cashin,tirage): # n = nombre de partie que l'on veut faire, cashin = prix auquel on veut stopper la partie, tirage = nombre de tirage par partie\n",
    "    nb = 0\n",
    "    gagnée = 0\n",
    "    perdue = 0\n",
    "    autre = 0\n",
    "    for i in range(n):\n",
    "        nb = partie(cashin,tirage)\n",
    "        if(nb == cashin):\n",
    "            gagnée += 1\n",
    "        elif(nb > 0 and nb < cashin):\n",
    "            autre += 1\n",
    "        elif(nb == 0):\n",
    "            perdue += 1\n",
    "    return gagnée, perdue, autre\n",
    "        \n",
    "list = []\n",
    "count = 20\n",
    "for i in range(count):\n",
    "    list.append(npartie(10000,14,10))\n",
    "\n",
    "print(list)\n",
    "\n",
    "gagnee_moy = 0\n",
    "perdue_moy = 0\n",
    "autre_moy = 0\n",
    "\n",
    "for i in list:\n",
    "    gagnee_moy += i[0]\n",
    "    perdue_moy += i[1]\n",
    "    autre_moy += i[2]\n",
    "\n",
    "\n",
    "print(\"moyenne séances gagnée ( stop à 14€ ) :\", (gagnee_moy/count)/100)\n",
    "print(\"moyenne séances perdue ( stop à 14€ ) :\", (perdue_moy/count)/100)\n",
    "print(\"moyenne séances finies à + de 0 mais moins de 14 ( stop à 14€ ) :\", (autre_moy/count)/100)\n"
   ]
  },
  {
   "cell_type": "code",
   "execution_count": 335,
   "metadata": {},
   "outputs": [
    {
     "data": {
      "image/png": "[encoded data removed]",
      "text/plain": [
       "<Figure size 432x288 with 1 Axes>"
      ]
     },
     "metadata": {
      "needs_background": "light"
     },
     "output_type": "display_data"
    }
   ],
   "source": [
    "import numpy as np\n",
    "import matplotlib.pyplot as plt\n",
    "\n",
    "Tab = []\n",
    "Tab.append(npartie_return_argent(1000000,20,10))\n",
    "\n",
    "plt.hist(Tab)\n",
    "plt.ylabel('Nb de séances de 10 tours de roulette')\n",
    "plt.xlabel('Argent à la fin des 10 tours (ou après avoir tout perdu / cashout ) ')\n",
    "plt.title('Histogramme des séances de 10 tours de roulette avec stop à 20€ et argent initial de 10€')\n",
    "plt.show()\n",
    "\n"
   ]
  }
 ],
 "metadata": {
  "interpreter": {
   "hash": "7a9ac839c22f4ef1a703331818f49c39c32798a52e733cd7e7abe47abde9bc75"
  },
  "kernelspec": {
   "display_name": "Python 3.10.4 64-bit",
   "language": "python",
   "name": "python3"
  },
  "language_info": {
   "codemirror_mode": {
    "name": "ipython",
    "version": 3
   },
   "file_extension": ".py",
   "mimetype": "text/x-python",
   "name": "python",
   "nbconvert_exporter": "python",
   "pygments_lexer": "ipython3",
   "version": "3.10.4"
  },
  "orig_nbformat": 4
 },
 "nbformat": 4,
 "nbformat_minor": 2
}
